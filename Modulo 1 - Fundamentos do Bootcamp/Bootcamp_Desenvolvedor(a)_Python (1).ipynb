{
  "nbformat": 4,
  "nbformat_minor": 0,
  "metadata": {
    "colab": {
      "private_outputs": true,
      "provenance": []
    },
    "kernelspec": {
      "name": "python3",
      "display_name": "Python 3"
    },
    "language_info": {
      "name": "python"
    }
  },
  "cells": [
    {
      "cell_type": "markdown",
      "source": [
        "# Desafio Prático\n",
        "Módulo 1: Fundamentos de Desenvolvedor(a) Python\n",
        "\n",
        "Objetivos de Ensino\n",
        "\n",
        "Praticar e consolidar os seguintes conceitos da linguagem Python:\n",
        "\n",
        "✓ Estruturas de dados (listas, tuplas, conjuntos e dicionários).\n",
        "\n",
        "✓ Declaração, utilização e argumentos de funções.\n",
        "\n",
        "✓ Criação, importação e instalação de módulos.\n",
        "\n",
        "✓ Manipulação de arquivos em discos.\n",
        "\n",
        "✓ Recursos úteis da linguagem."
      ],
      "metadata": {
        "id": "0ZfVCdesI3Sy"
      }
    },
    {
      "cell_type": "markdown",
      "source": [
        "**Enunciado**\n",
        "\n",
        "Neste desafio o aluno deverá solucionar problemas simples utilizando a\n",
        "linguagem Python. Serão abordados conceitos como: estruturas de dados,\n",
        "funções e módulos. Após praticar, as questões objetivas devem ser\n",
        "respondidas, considerando os elementos apresentados nas atividades abaixo.\n",
        "Não será necessária a entrega de nenhum código."
      ],
      "metadata": {
        "id": "SlUG7ZeCJFhz"
      }
    },
    {
      "cell_type": "markdown",
      "source": [
        "**Atividades**\n",
        "Os alunos deverão desempenhar as seguintes atividades:\n",
        "\n",
        "Atividade 01. Execute e analise a saída do seguinte código no Google Colab."
      ],
      "metadata": {
        "id": "QID1ULaDJL75"
      }
    },
    {
      "cell_type": "code",
      "execution_count": null,
      "metadata": {
        "id": "HhoaIxfxIvE5"
      },
      "outputs": [],
      "source": [
        "# relação dos nomes\n",
        "nomes = ['Maria', 'Julieta', 'Fernando', 'Cristiano', 'Julieta', 'Maria', 'Fernando', 'Cláudio']\n",
        "# estrutura que irá armazenar o número de letras de cada nome\n",
        "qtd_letras = {}\n",
        "# calcula o tamanho de cada nome (em número de letras) e armazena o valor na estrutura\n",
        "for nome in nomes:\n",
        "  qtd_letras[nome] = len(nome)\n",
        "\n",
        "  print(qtd_letras)"
      ]
    },
    {
      "cell_type": "markdown",
      "source": [
        "**Atividade 02.**\n",
        "Reescreva o código da Atividade 01 utilizando o conceito de\n",
        "compreensão de dicionários (dict comprehension)."
      ],
      "metadata": {
        "id": "hZP8HvfkJg2S"
      }
    },
    {
      "cell_type": "code",
      "source": [
        "qtd_letras = {nome: len(nome) for nome in nomes}\n",
        "print(qtd_letras)"
      ],
      "metadata": {
        "id": "96gKaXo5JoFC"
      },
      "execution_count": null,
      "outputs": []
    },
    {
      "cell_type": "markdown",
      "source": [
        "**Atividade 03.**\n",
        " Crie uma função area(r, pi), que calcule a área de um círculo.\n",
        "A área de um círculo é dada por a = πr\n",
        "2, onde:\n",
        "\n",
        "  * π é o número pi, cujo valor é ~3,14159265359\n",
        "  * r é o raio do círculo\n",
        "\n",
        "Esta função deve receber dois argumentos, r e pi, e retornar a área de um círculo\n",
        "com raio r. Entretanto, você deve fornecer duas opções de utilização da função:\n",
        "\n",
        "**a) ** A utilização de um valor padrão para pi (π = 3,14), sem a necessidade de\n",
        "declarar explicitamente o seu valor;\n",
        "\n",
        "**b) ** A utilização com a declaração explicita do valor exato de pi desejado.\n",
        "Por exemplo, para um raio r = 8, o usuário poderá utilizar a sua função das\n",
        "seguintes maneiras:"
      ],
      "metadata": {
        "id": "TZxOnghUKbgp"
      }
    },
    {
      "cell_type": "code",
      "source": [
        "pi = 3.14\n",
        "\n",
        "def area(r,pi):\n",
        "  return pi * (r**2)\n",
        "\n",
        "print(area(8,pi))"
      ],
      "metadata": {
        "id": "u5RMtDCEKZNY"
      },
      "execution_count": null,
      "outputs": []
    },
    {
      "cell_type": "code",
      "source": [
        "def area1(r,pi=3.14):\n",
        "  return pi * (r**2)"
      ],
      "metadata": {
        "id": "uy2TCSGHLjtN"
      },
      "execution_count": null,
      "outputs": []
    },
    {
      "cell_type": "code",
      "source": [
        "# Utilização da função sem declarar pi\n",
        "# Neste caso o valor de pi deverá ser 3.14 e o resultado: 3.14 * (8 ** 2)\n",
        "area1(8)\n",
        "# Utilização da função declarando explicitamente o valor de pi\n",
        "# Neste caso o valor de pi\n",
        "print(area1(8,pi))\n",
        "print(area1(8))"
      ],
      "metadata": {
        "id": "yHlur_dfLLei"
      },
      "execution_count": null,
      "outputs": []
    },
    {
      "cell_type": "markdown",
      "source": [
        "**Atividade 04.**\n",
        "\n",
        " Reescreva a função area da atividade 3, utilizando o conceito de\n",
        "funções anônimas (funções lambdas).\n",
        "\n",
        "**Atividade 05.**\n",
        "\n",
        "Crie um módulo em Python, chamado processalista (arquivo processalista.py),\n",
        "com as seguintes funções, que deverão receber como argumento uma lista (tipo\n",
        "list) de números inteiros."
      ],
      "metadata": {
        "id": "AeaBnxfvMUt5"
      }
    },
    {
      "cell_type": "code",
      "source": [
        "area2 = lambda r, pi: pi * (r**2)\n",
        "print(area2(8,pi))"
      ],
      "metadata": {
        "id": "xbJsCroxMZaL"
      },
      "execution_count": null,
      "outputs": []
    },
    {
      "cell_type": "markdown",
      "source": [],
      "metadata": {
        "id": "K2CvsHQGM_qe"
      }
    },
    {
      "cell_type": "code",
      "source": [
        "def maior_impar(lista):\n",
        "  maior = 0\n",
        "  for num in lista:\n",
        "    if num % 2 != 0 and num > maior:\n",
        "      maior = num\n",
        "      return maior"
      ],
      "metadata": {
        "id": "L4n0rzBhPIDx"
      },
      "execution_count": null,
      "outputs": []
    },
    {
      "cell_type": "code",
      "source": [
        "maior_impar([1, 2, 3, 4, 5, 6, 7, 8, 9, 10])"
      ],
      "metadata": {
        "id": "N0w-orukQWrG"
      },
      "execution_count": null,
      "outputs": []
    },
    {
      "cell_type": "code",
      "source": [
        "def menor_impar(lista):\n",
        "  menor = 0\n",
        "  for num in lista:\n",
        "    if num % 2 != 0 and num < menor:\n",
        "      menor = num\n",
        "      return menor"
      ],
      "metadata": {
        "id": "P-KRYiH8QfC9"
      },
      "execution_count": null,
      "outputs": []
    },
    {
      "cell_type": "code",
      "source": [
        "menor_impar([1, 2, 3, 4, 5, 6, 7, 8, 9, 10])"
      ],
      "metadata": {
        "id": "2KVjgJoCQi15"
      },
      "execution_count": null,
      "outputs": []
    },
    {
      "cell_type": "code",
      "source": [
        "def menor_impar1(lista):\n",
        "  menor = 0\n",
        "  maior = 0\n",
        "  for num in lista:\n",
        "    if num % 2 != 0 and num < menor:\n",
        "      menor = num\n",
        "    if num % 2 != 0 and num > maior:\n",
        "        maior = num\n",
        "        return (menor,maior)"
      ],
      "metadata": {
        "id": "fxhl_7SgQyzr"
      },
      "execution_count": null,
      "outputs": []
    },
    {
      "cell_type": "code",
      "source": [
        "menor_impar1([1, 2, 3, 4, 5, 6, 7, 8, 9, 10])"
      ],
      "metadata": {
        "id": "RrZJ7mlwREyP"
      },
      "execution_count": null,
      "outputs": []
    },
    {
      "cell_type": "code",
      "source": [
        "import processalista"
      ],
      "metadata": {
        "id": "AsJhwg7vRI38"
      },
      "execution_count": null,
      "outputs": []
    },
    {
      "cell_type": "code",
      "source": [
        "processalista.maior_impar([1, 2, 3, 4, 5, 6, 7, 8, 9, 10])"
      ],
      "metadata": {
        "id": "5cD2FQeKRTlT"
      },
      "execution_count": null,
      "outputs": []
    },
    {
      "cell_type": "markdown",
      "source": [
        "**Atividade 06.**\n",
        "\n",
        "Considere a seguinte agenda de disponibilidade de atendimento de\n",
        "uma clínica com vários médicos, cada um de uma especialidade distinta. Essa\n",
        "clínica possuí apenas três consultórios, e, por isso, no máximo três médicos podem\n",
        "atender por dia."
      ],
      "metadata": {
        "id": "Z_ETa_d_RchJ"
      }
    },
    {
      "cell_type": "markdown",
      "source": [
        "Especialidade Segunda Terça Quarta Quinta Sexta\n",
        "Cardiologista ✓ ✓\n",
        "Ortopedista ✓ ✓\n",
        "Dermatologista ✓ ✓ ✓\n",
        "Neurologista ✓ ✓ ✓\n",
        "Psiquiatra ✓ ✓ ✓"
      ],
      "metadata": {
        "id": "uw6NNfG6RlmP"
      }
    },
    {
      "cell_type": "markdown",
      "source": [
        "A clínica percebeu que os pacientes que desejam se consultar com mais de um\n",
        "médico sempre solicitam que o atendimento seja realizado no mesmo dia. Por\n",
        "exemplo, um paciente gostaria de se consultar, no mesmo dia, com o ortopedista\n",
        "e com o neurologista, então os dias disponíveis serão: terça e quinta. Outro\n",
        "exemplo é um paciente que gostaria de se consultar com o dermatologista, o\n",
        "neurologista e o psiquiatra. O único dia disponível será a sexta.\n",
        "Entretanto, essas solicitações estão causando dor de cabeça, pois é necessário\n",
        "verificar manualmente a disponibilidade. Você, como um(a) aspirante a\n",
        "desenvolvedor Python, aceitou o desafio de ajudar a automatizar essa tarefa. Para\n",
        "tanto, irá desenvolver duas funções que receberão a relação de disponibilidade de\n",
        "cada médico e que retornarão os dias disponíveis:"
      ],
      "metadata": {
        "id": "x8mVP-F-SE1t"
      }
    },
    {
      "cell_type": "code",
      "source": [
        "# relação de dias da semana que cada médico atende\n",
        "cardiologista = {'terca', 'quarta'}\n",
        "ortopedista = {'terca', 'quinta'}\n",
        "dermatologista = {'segunda', 'quarta', 'sexta'}\n",
        "neurologista = {'terca', 'quinta', 'sexta'}\n",
        "psiquiatra = {'segunda', 'quarta', 'sexta'}\n",
        "# Calcula quais os dias possíveis para dois médicos\n",
        "def disp_dois_especialistas(medico01, medico02):\n",
        "  dias_disponiveis = medico01.intersection(medico02)\n",
        "  return dias_disponiveis\n",
        "# <seu codigo aqui>\n",
        "# Calcula quais os dias possíveis para três médicos\n",
        "def disp_tres_especialistas(medico01, medico02, medico03):\n",
        "  dias_disponiveis = medico01.intersection(medico02, medico03)\n",
        "  return dias_disponiveis"
      ],
      "metadata": {
        "id": "G5mnT5VxRcJk"
      },
      "execution_count": null,
      "outputs": []
    },
    {
      "cell_type": "markdown",
      "source": [
        "Assim, para os exemplos anteriores, as funções deverão ter os seguintes retornos:"
      ],
      "metadata": {
        "id": "eO6oWojqSYeE"
      }
    },
    {
      "cell_type": "code",
      "source": [
        "# Médicos solicitados: ortopedista e neurologista\n",
        "disp_dois_especialistas(ortopedista, neurologista)\n",
        "# RETORNA: terça e quinta\n",
        "# Médicos solicitados: dermatologista, neurologista, psquiatra\n",
        "disp_tres_especialistas(dermatologista, neurologista, psiquiatra)\n",
        "# RETORNA: sexta"
      ],
      "metadata": {
        "id": "zcxovVhvSZXF"
      },
      "execution_count": null,
      "outputs": []
    },
    {
      "cell_type": "code",
      "source": [
        "disp_dois_especialistas(ortopedista, neurologista)"
      ],
      "metadata": {
        "id": "8ekX2XPkSng_"
      },
      "execution_count": null,
      "outputs": []
    },
    {
      "cell_type": "code",
      "source": [
        "def disp_dois_especialistas(medico01: set, medico02: set) -> set:\n",
        "    return medico01 & medico02"
      ],
      "metadata": {
        "id": "_TXgtmEOTASg"
      },
      "execution_count": null,
      "outputs": []
    },
    {
      "cell_type": "code",
      "source": [
        "def disp_tres_especialistas(medico01: set, medico02: set, medico03: set) -> set:\n",
        "    return medico01 & medico02 & medico03"
      ],
      "metadata": {
        "id": "CU4pxct8TM9r"
      },
      "execution_count": null,
      "outputs": []
    }
  ]
}