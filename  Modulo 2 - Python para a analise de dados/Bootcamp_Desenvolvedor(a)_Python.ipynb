{
  "nbformat": 4,
  "nbformat_minor": 0,
  "metadata": {
    "colab": {
      "private_outputs": true,
      "provenance": []
    },
    "kernelspec": {
      "name": "python3",
      "display_name": "Python 3"
    },
    "language_info": {
      "name": "python"
    }
  },
  "cells": [
    {
      "cell_type": "markdown",
      "source": [
        "# Desafio Prático\n",
        "Módulo 2: Python para a Análise de Dados\n",
        "\n",
        "**Objetivos de Ensino**\n",
        "\n",
        "Exercitar os seguintes conceitos trabalhados no Módulo:\n",
        "1. Realizar a análise de uma base de dados real em Python.\n",
        "\n",
        "**Enunciado**\n",
        "\n",
        "O uso de bicicletas como meio de transporte ganhou muita força nos últimos\n",
        "anos, seja por questões ambientais, de saúde ou até mesmo de infraestrutura\n",
        "de trânsito. Para incentivar seu uso, cidades em todo o mundo têm\n",
        "implementado programas de compartilhamento de bicicleta. Nesses\n",
        "sistemas, elas são retiradas e devolvidas em quiosques automatizados que\n",
        "ficam espalhados por diversos pontos da cidade.\n",
        "As plataformas de compartilhamento de bicicletas costumam coletar diversos\n",
        "tipos de dados, como a duração da viagem, as localizações iniciais e finais dos\n",
        "percursos, entre outros. Esses dados, em conjunto com informações sobre o\n",
        "clima, o trânsito e o relevo, por exemplo, possibilitam uma análise mais\n",
        "robusta do compartilhamento de bicicletas.\n",
        "\n",
        "Segue um descritivo dos dados coletados:\n",
        "\n",
        "− rec_id: índice do registro de locação;\n",
        "\n",
        "− datetime: data;\n",
        "\n",
        "− season: estação do ano (1: inverno, 2: primavera, 3: verão, 4: outono).\n",
        "Relativo ao hemisfério norte;\n",
        "\n",
        "− year: ano (0: 2011, 1:2012);\n",
        "\n",
        "− month: mês (1 a 12);\n",
        "\n",
        "− hour: hora do dia (0 a 23);\n",
        "\n",
        "− is_holiday: booleano indicando feriado;\n",
        "\n",
        "− weekday: dia da semana (0: domingo, 1: segunda-feira, ..., 6: sábado);\n",
        "\n",
        "− is_workingday: booleano indicando dia útil;\n",
        "\n",
        "− weather_condition: (1: limpo, 2: nublado, 3: chuva leve, 4: chuva\n",
        "forte);\n",
        "\n",
        "− temp: Temperatura escalada entre 0 e 1. Valor original em graus\n",
        "Celsius: -8 a 39;\n",
        "\n",
        "− atemp: Sensação térmica escalada entre 0 e 1. Valor original em\n",
        "graus Celsius: -16 a 50;\n",
        "\n",
        "− humidity: Humidade relativa (0 a 1);\n",
        "\n",
        "− windspeed: Velocidade do vento escalada entre 0 e 1 (máximo\n",
        "original: 67);\n",
        "\n",
        "− casual: número de locações para usuários casuais;\n",
        "\n",
        "− registered: número de locações para usuários registrados;\n",
        "\n",
        "− total_count: contador total de aluguéis (casual+registered).\n",
        "\n",
        "Esta atividade tem como objetivo analisar os dados de compartilhamento de\n",
        "bicicletas em uma cidade, coletados pela Universidade do Porto.\n",
        "\n",
        "**Atividades**\n",
        "Os alunos deverão desempenhar as seguintes atividades:\n",
        "\n",
        "1. Acessar o ambiente Google Colaboratory (recomendado) ou qualquer\n",
        "ambiente de desenvolvimento em Python.\n",
        "\n",
        "2. Importar as bibliotecas do numpy e pandas conforme:"
      ],
      "metadata": {
        "id": "k5CnLUEr7IOA"
      }
    },
    {
      "cell_type": "code",
      "execution_count": null,
      "metadata": {
        "id": "8Hvfj7VJ406I"
      },
      "outputs": [],
      "source": [
        "# importando bibliotecas\n",
        "import pandas as pd\n",
        "import numpy as np"
      ]
    },
    {
      "cell_type": "markdown",
      "source": [
        "3. Carregar o dataset https://pycourse.s3.amazonaws.com/bike-sharing.csv\n",
        "para análise utilizando o pandas. Exemplo:"
      ],
      "metadata": {
        "id": "DZSg8p0i9T9X"
      }
    },
    {
      "cell_type": "code",
      "source": [
        "df = pd.read_csv('https://pycourse.s3.amazonaws.com/bike-sharing.csv')"
      ],
      "metadata": {
        "id": "TPNRyH8F9W-8"
      },
      "execution_count": null,
      "outputs": []
    },
    {
      "cell_type": "markdown",
      "source": [
        "4. Responder às seguintes perguntas:"
      ],
      "metadata": {
        "id": "BN7XGx8a9e6y"
      }
    },
    {
      "cell_type": "markdown",
      "source": [
        "a. Qual o tamanho desse dataset?"
      ],
      "metadata": {
        "id": "iayUQ9pt9gGH"
      }
    },
    {
      "cell_type": "code",
      "source": [
        "df.shape"
      ],
      "metadata": {
        "id": "S178NYNS9ePe"
      },
      "execution_count": null,
      "outputs": []
    },
    {
      "cell_type": "markdown",
      "source": [
        "b. Qual a média da coluna windspeed?"
      ],
      "metadata": {
        "id": "7iOdrBGz9k6z"
      }
    },
    {
      "cell_type": "code",
      "source": [
        "df.windspeed.mean()"
      ],
      "metadata": {
        "id": "Jz3wNknX9nXX"
      },
      "execution_count": null,
      "outputs": []
    },
    {
      "cell_type": "markdown",
      "source": [
        "c. Qual a média da coluna temp?"
      ],
      "metadata": {
        "id": "EaQvDgJb9uZS"
      }
    },
    {
      "cell_type": "code",
      "source": [
        "df.temp.mean()"
      ],
      "metadata": {
        "id": "AJ1oATaH9xGP"
      },
      "execution_count": null,
      "outputs": []
    },
    {
      "cell_type": "markdown",
      "source": [
        "d. Quantos registros existem para o ano de 2011?"
      ],
      "metadata": {
        "id": "ucy9gsFG9zvP"
      }
    },
    {
      "cell_type": "code",
      "source": [
        "df.year[df.year == 0].shape"
      ],
      "metadata": {
        "id": "RZpRjxFT92Jr"
      },
      "execution_count": null,
      "outputs": []
    },
    {
      "cell_type": "markdown",
      "source": [
        "e. Quantos registros existem para o ano de 2012?"
      ],
      "metadata": {
        "id": "BwXIxxHM_ZcH"
      }
    },
    {
      "cell_type": "code",
      "source": [
        "df.year[df.year == 1].shape"
      ],
      "metadata": {
        "id": "ifgrqzHD-DkQ"
      },
      "execution_count": null,
      "outputs": []
    },
    {
      "cell_type": "markdown",
      "source": [
        "f. Quantas locações de bicicletas foram efetuadas em 2011?"
      ],
      "metadata": {
        "id": "vPG2RqXZ_ciT"
      }
    },
    {
      "cell_type": "code",
      "source": [
        "# df['rec_id'][df.year == 0].count()\n",
        "df['total_count'][df.year == 0].sum()"
      ],
      "metadata": {
        "id": "jVCHkCH2_fCH"
      },
      "execution_count": null,
      "outputs": []
    },
    {
      "cell_type": "markdown",
      "source": [
        "g. Quantas locações de bicicletas foram efetuadas em 2012?"
      ],
      "metadata": {
        "id": "mTvXSKg5AO-u"
      }
    },
    {
      "cell_type": "code",
      "source": [
        "# df['rec_id'][df.year == 1].count()\n",
        "df['total_count'][df.year == 1].sum()"
      ],
      "metadata": {
        "id": "v-dP048IARPL"
      },
      "execution_count": null,
      "outputs": []
    },
    {
      "cell_type": "markdown",
      "source": [
        "h. Qual estação do ano contém a maior média de locações de\n",
        "bicicletas?"
      ],
      "metadata": {
        "id": "-kXVWxHSAVfP"
      }
    },
    {
      "cell_type": "code",
      "source": [
        "df.groupby('season')['total_count'].mean().idxmax()"
      ],
      "metadata": {
        "id": "dsKVj6oZAYVY"
      },
      "execution_count": null,
      "outputs": []
    },
    {
      "cell_type": "markdown",
      "source": [
        "i. Qual estação do ano contém a menor média de locações de\n",
        "bicicletas?"
      ],
      "metadata": {
        "id": "6j9vnxnuA91u"
      }
    },
    {
      "cell_type": "code",
      "source": [
        "df.groupby('season')['total_count'].mean().idxmin()"
      ],
      "metadata": {
        "id": "CkKX90qABDVb"
      },
      "execution_count": null,
      "outputs": []
    },
    {
      "cell_type": "markdown",
      "source": [
        "j. Qual horário do dia contém a maior média de locações de\n",
        "bicicletas?"
      ],
      "metadata": {
        "id": "Dp4cmomzDNef"
      }
    },
    {
      "cell_type": "code",
      "source": [
        "df.groupby('hour')['total_count'].mean().idxmax()"
      ],
      "metadata": {
        "id": "KuXM_8AaDQAX"
      },
      "execution_count": null,
      "outputs": []
    },
    {
      "cell_type": "markdown",
      "source": [
        "l. Que dia da semana contém a maior média de locações de\n",
        "bicicletas?"
      ],
      "metadata": {
        "id": "LjDjgTxVS2mM"
      }
    },
    {
      "cell_type": "code",
      "source": [
        "df.groupby('weekday')['total_count'].mean().idxmax()"
      ],
      "metadata": {
        "id": "vrXs18toFNEZ"
      },
      "execution_count": null,
      "outputs": []
    },
    {
      "cell_type": "markdown",
      "source": [
        "m. Que dia da semana contém a menor média de locações de\n",
        "bicicletas?"
      ],
      "metadata": {
        "id": "Nn6r8pWcTVCj"
      }
    },
    {
      "cell_type": "code",
      "source": [
        "df.groupby('weekday')['total_count'].mean().idxmin()"
      ],
      "metadata": {
        "id": "0aonxP_hTYH8"
      },
      "execution_count": null,
      "outputs": []
    },
    {
      "cell_type": "markdown",
      "source": [
        "n. Às quartas-feiras (weekday = 3), qual o horário do dia que contém\n",
        "a maior média de locações de bicicletas?"
      ],
      "metadata": {
        "id": "0zWP2yMeTjFp"
      }
    },
    {
      "cell_type": "code",
      "source": [
        "df[df.weekday == 3].groupby('hour')['total_count'].mean().idxmax()"
      ],
      "metadata": {
        "id": "wF0qtIBqTjn9"
      },
      "execution_count": null,
      "outputs": []
    },
    {
      "cell_type": "markdown",
      "source": [
        "Aos sábados (weekday = 6), qual o horário do dia que contém a\n",
        "maior média de locações de bicicletas?"
      ],
      "metadata": {
        "id": "ykA1GWiDVh7V"
      }
    },
    {
      "cell_type": "code",
      "source": [
        "df[df.weekday == 6].groupby('hour')['total_count'].mean().idxmax()"
      ],
      "metadata": {
        "id": "UOSzDvKjVjoY"
      },
      "execution_count": null,
      "outputs": []
    }
  ]
}